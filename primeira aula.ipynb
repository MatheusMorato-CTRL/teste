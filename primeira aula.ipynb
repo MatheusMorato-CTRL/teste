{
 "cells": [
  {
   "cell_type": "code",
   "execution_count": 27,
   "id": "daf8a8d0-5c3e-490b-bf76-a0beaab36523",
   "metadata": {},
   "outputs": [
    {
     "name": "stdin",
     "output_type": "stream",
     "text": [
      "digite o primeiro número: 2\n",
      "digite o segundo número: 3.3\n"
     ]
    },
    {
     "name": "stdout",
     "output_type": "stream",
     "text": [
      "a multiplicação dos dois números é: 6.6\n"
     ]
    }
   ],
   "source": [
    "numero1 = float(input(\"digite o primeiro número:\"))\n",
    "numero2 = float(input(\"digite o segundo número:\"))\n",
    "\n",
    "multiplicação = numero1 * numero2\n",
    "\n",
    "print (\"a multiplicação dos dois números é:\", multiplicação)"
   ]
  },
  {
   "cell_type": "code",
   "execution_count": null,
   "id": "dd9249e1-e7a8-4740-a159-e835d16ac1fb",
   "metadata": {},
   "outputs": [],
   "source": []
  }
 ],
 "metadata": {
  "kernelspec": {
   "display_name": "Python [conda env:base] *",
   "language": "python",
   "name": "conda-base-py"
  },
  "language_info": {
   "codemirror_mode": {
    "name": "ipython",
    "version": 3
   },
   "file_extension": ".py",
   "mimetype": "text/x-python",
   "name": "python",
   "nbconvert_exporter": "python",
   "pygments_lexer": "ipython3",
   "version": "3.12.7"
  }
 },
 "nbformat": 4,
 "nbformat_minor": 5
}
